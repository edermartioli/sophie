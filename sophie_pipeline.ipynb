{
 "cells": [
  {
   "cell_type": "markdown",
   "metadata": {},
   "source": [
    "# SOPHIE Pipeline"
   ]
  },
  {
   "cell_type": "code",
   "execution_count": 5,
   "metadata": {},
   "outputs": [],
   "source": [
    "import os,sys"
   ]
  },
  {
   "cell_type": "code",
   "execution_count": 6,
   "metadata": {},
   "outputs": [],
   "source": [
    "sophie_dir = os.path.dirname('/Volumes/Samsung_T5/Science/sophie/')\n",
    "data_dir = os.path.dirname('/Volumes/Samsung_T5/Data/SOPHIE/TOI-1736/analysis/')\n",
    "reduce_dir = data_dir\n",
    "ccfmask = os.path.join(sophie_dir,\"masks/G2_nm.mas\")"
   ]
  },
  {
   "cell_type": "code",
   "execution_count": 7,
   "metadata": {},
   "outputs": [],
   "source": [
    "object_name = 'TOI-1736'"
   ]
  },
  {
   "cell_type": "code",
   "execution_count": 12,
   "metadata": {},
   "outputs": [],
   "source": [
    "input_pattern = data_dir+'/SOPHIE*s1d_A.fits'\n",
    "plot_flag, verbose_flag = '',''"
   ]
  },
  {
   "cell_type": "code",
   "execution_count": 13,
   "metadata": {},
   "outputs": [],
   "source": [
    "rv_file = os.path.join(reduce_dir,\"{}_sophie_ccfrv.rdb\".format(object_name))\n",
    "bis_file = os.path.join(reduce_dir,\"{}_sophie_ccfbis.rdb\".format(object_name))\n",
    "fwhm_file = os.path.join(reduce_dir,\"{}_sophie_ccffwhm.rdb\".format(object_name))\n",
    "sindex_file = os.path.join(reduce_dir,\"{}_sophie_sindex.rdb\".format(object_name))\n",
    "halpha_file = os.path.join(reduce_dir,\"{}_sophie_halpha.rdb\".format(object_name))\n",
    "NaI_file = os.path.join(reduce_dir,\"{}_sophie_NaI.rdb\".format(object_name))\n",
    "CaI_file = os.path.join(reduce_dir,\"{}_sophie_CaI.rdb\".format(object_name))"
   ]
  },
  {
   "cell_type": "code",
   "execution_count": 15,
   "metadata": {},
   "outputs": [
    {
     "name": "stdout",
     "output_type": "stream",
     "text": [
      "Running:  python /Volumes/Samsung_T5/Science/sophie/sophie_ccf_pipeline.py --input=/Volumes/Samsung_T5/Data/SOPHIE/TOI-1736/analysis/SOPHIE*s1d_A.fits --ccf_mask=/Volumes/Samsung_T5/Science/sophie/masks/G2_nm.mas --output_rv_file=/Volumes/Samsung_T5/Data/SOPHIE/TOI-1736/analysis/TOI-1736_sophie_ccfrv.rdb --output_bis_file=/Volumes/Samsung_T5/Data/SOPHIE/TOI-1736/analysis/TOI-1736_sophie_ccfbis.rdb --output_fwhm_file=/Volumes/Samsung_T5/Data/SOPHIE/TOI-1736/analysis/TOI-1736_sophie_ccffwhm.rdb  \n"
     ]
    }
   ],
   "source": [
    "command = \"python {0}/sophie_ccf_pipeline.py --input={1} --ccf_mask={2} \\\n",
    "--output_rv_file={3} --output_bis_file={4} --output_fwhm_file={5} {6} {7}\".format(sophie_dir, \n",
    "                                                                                  input_pattern,\n",
    "                                                                                  ccfmask, \n",
    "                                                                                  rv_file, \n",
    "                                                                                  bis_file, \n",
    "                                                                                  fwhm_file, \n",
    "                                                                                  plot_flag, \n",
    "                                                                                  verbose_flag)\n",
    "print(\"Running: \",command)"
   ]
  },
  {
   "cell_type": "code",
   "execution_count": null,
   "metadata": {},
   "outputs": [],
   "source": []
  }
 ],
 "metadata": {
  "kernelspec": {
   "display_name": "Python 3 (ipykernel)",
   "language": "python",
   "name": "python3"
  },
  "language_info": {
   "codemirror_mode": {
    "name": "ipython",
    "version": 3
   },
   "file_extension": ".py",
   "mimetype": "text/x-python",
   "name": "python",
   "nbconvert_exporter": "python",
   "pygments_lexer": "ipython3",
   "version": "3.9.7"
  }
 },
 "nbformat": 4,
 "nbformat_minor": 2
}
